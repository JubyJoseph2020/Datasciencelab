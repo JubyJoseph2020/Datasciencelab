{
 "cells": [
  {
   "cell_type": "code",
   "execution_count": 4,
   "id": "ed43eb2f",
   "metadata": {},
   "outputs": [
    {
     "data": {
      "text/html": [
       "<div>\n",
       "<style scoped>\n",
       "    .dataframe tbody tr th:only-of-type {\n",
       "        vertical-align: middle;\n",
       "    }\n",
       "\n",
       "    .dataframe tbody tr th {\n",
       "        vertical-align: top;\n",
       "    }\n",
       "\n",
       "    .dataframe thead th {\n",
       "        text-align: right;\n",
       "    }\n",
       "</style>\n",
       "<table border=\"1\" class=\"dataframe\">\n",
       "  <thead>\n",
       "    <tr style=\"text-align: right;\">\n",
       "      <th></th>\n",
       "      <th>vhigh</th>\n",
       "      <th>vhigh.1</th>\n",
       "      <th>2</th>\n",
       "      <th>2.1</th>\n",
       "      <th>small</th>\n",
       "      <th>low</th>\n",
       "      <th>unacc</th>\n",
       "    </tr>\n",
       "  </thead>\n",
       "  <tbody>\n",
       "    <tr>\n",
       "      <th>0</th>\n",
       "      <td>vhigh</td>\n",
       "      <td>vhigh</td>\n",
       "      <td>2</td>\n",
       "      <td>2</td>\n",
       "      <td>small</td>\n",
       "      <td>med</td>\n",
       "      <td>unacc</td>\n",
       "    </tr>\n",
       "    <tr>\n",
       "      <th>1</th>\n",
       "      <td>vhigh</td>\n",
       "      <td>vhigh</td>\n",
       "      <td>2</td>\n",
       "      <td>2</td>\n",
       "      <td>small</td>\n",
       "      <td>high</td>\n",
       "      <td>unacc</td>\n",
       "    </tr>\n",
       "    <tr>\n",
       "      <th>2</th>\n",
       "      <td>vhigh</td>\n",
       "      <td>vhigh</td>\n",
       "      <td>2</td>\n",
       "      <td>2</td>\n",
       "      <td>med</td>\n",
       "      <td>low</td>\n",
       "      <td>unacc</td>\n",
       "    </tr>\n",
       "    <tr>\n",
       "      <th>3</th>\n",
       "      <td>vhigh</td>\n",
       "      <td>vhigh</td>\n",
       "      <td>2</td>\n",
       "      <td>2</td>\n",
       "      <td>med</td>\n",
       "      <td>med</td>\n",
       "      <td>unacc</td>\n",
       "    </tr>\n",
       "    <tr>\n",
       "      <th>4</th>\n",
       "      <td>vhigh</td>\n",
       "      <td>vhigh</td>\n",
       "      <td>2</td>\n",
       "      <td>2</td>\n",
       "      <td>med</td>\n",
       "      <td>high</td>\n",
       "      <td>unacc</td>\n",
       "    </tr>\n",
       "  </tbody>\n",
       "</table>\n",
       "</div>"
      ],
      "text/plain": [
       "   vhigh vhigh.1  2 2.1  small   low  unacc\n",
       "0  vhigh   vhigh  2   2  small   med  unacc\n",
       "1  vhigh   vhigh  2   2  small  high  unacc\n",
       "2  vhigh   vhigh  2   2    med   low  unacc\n",
       "3  vhigh   vhigh  2   2    med   med  unacc\n",
       "4  vhigh   vhigh  2   2    med  high  unacc"
      ]
     },
     "execution_count": 4,
     "metadata": {},
     "output_type": "execute_result"
    }
   ],
   "source": [
    "import numpy as np\n",
    "\n",
    "import pandas as pd\n",
    "dataset=pd.read_csv(\"car.csv\")\n",
    "dataset.head()\n"
   ]
  },
  {
   "cell_type": "code",
   "execution_count": 5,
   "id": "c2ccebcd",
   "metadata": {},
   "outputs": [
    {
     "data": {
      "text/html": [
       "<div>\n",
       "<style scoped>\n",
       "    .dataframe tbody tr th:only-of-type {\n",
       "        vertical-align: middle;\n",
       "    }\n",
       "\n",
       "    .dataframe tbody tr th {\n",
       "        vertical-align: top;\n",
       "    }\n",
       "\n",
       "    .dataframe thead th {\n",
       "        text-align: right;\n",
       "    }\n",
       "</style>\n",
       "<table border=\"1\" class=\"dataframe\">\n",
       "  <thead>\n",
       "    <tr style=\"text-align: right;\">\n",
       "      <th></th>\n",
       "      <th>vhigh</th>\n",
       "      <th>vhigh.1</th>\n",
       "      <th>2</th>\n",
       "      <th>2.1</th>\n",
       "      <th>small</th>\n",
       "      <th>low</th>\n",
       "      <th>unacc</th>\n",
       "    </tr>\n",
       "  </thead>\n",
       "  <tbody>\n",
       "    <tr>\n",
       "      <th>count</th>\n",
       "      <td>1727</td>\n",
       "      <td>1727</td>\n",
       "      <td>1727</td>\n",
       "      <td>1727</td>\n",
       "      <td>1727</td>\n",
       "      <td>1727</td>\n",
       "      <td>1727</td>\n",
       "    </tr>\n",
       "    <tr>\n",
       "      <th>unique</th>\n",
       "      <td>4</td>\n",
       "      <td>4</td>\n",
       "      <td>4</td>\n",
       "      <td>3</td>\n",
       "      <td>3</td>\n",
       "      <td>3</td>\n",
       "      <td>4</td>\n",
       "    </tr>\n",
       "    <tr>\n",
       "      <th>top</th>\n",
       "      <td>high</td>\n",
       "      <td>high</td>\n",
       "      <td>3</td>\n",
       "      <td>4</td>\n",
       "      <td>med</td>\n",
       "      <td>med</td>\n",
       "      <td>unacc</td>\n",
       "    </tr>\n",
       "    <tr>\n",
       "      <th>freq</th>\n",
       "      <td>432</td>\n",
       "      <td>432</td>\n",
       "      <td>432</td>\n",
       "      <td>576</td>\n",
       "      <td>576</td>\n",
       "      <td>576</td>\n",
       "      <td>1209</td>\n",
       "    </tr>\n",
       "  </tbody>\n",
       "</table>\n",
       "</div>"
      ],
      "text/plain": [
       "       vhigh vhigh.1     2   2.1 small   low  unacc\n",
       "count   1727    1727  1727  1727  1727  1727   1727\n",
       "unique     4       4     4     3     3     3      4\n",
       "top     high    high     3     4   med   med  unacc\n",
       "freq     432     432   432   576   576   576   1209"
      ]
     },
     "execution_count": 5,
     "metadata": {},
     "output_type": "execute_result"
    }
   ],
   "source": [
    "dataset.describe()\n"
   ]
  },
  {
   "cell_type": "code",
   "execution_count": 64,
   "id": "cf973e64",
   "metadata": {},
   "outputs": [
    {
     "name": "stdout",
     "output_type": "stream",
     "text": [
      "[['med' 'high' '4' '2' 'big' 'high']\n",
      " ['vhigh' 'med' '2' '4' 'small' 'med']\n",
      " ['low' 'low' '4' '4' 'small' 'low']\n",
      " ...\n",
      " ['med' 'high' '3' 'more' 'small' 'med']\n",
      " ['med' 'high' '3' '2' 'med' 'high']\n",
      " ['vhigh' 'high' '2' '4' 'med' 'low']]\n"
     ]
    }
   ],
   "source": [
    "\n",
    "print(X_train)\n",
    "\n",
    "\n"
   ]
  },
  {
   "cell_type": "code",
   "execution_count": 63,
   "id": "7bfdee16",
   "metadata": {
    "scrolled": true
   },
   "outputs": [
    {
     "name": "stdout",
     "output_type": "stream",
     "text": [
      "[['med' 'med' '3' '2' 'med' 'med']\n",
      " ['high' 'low' '5more' '4' 'med' 'low']\n",
      " ['low' 'low' '4' 'more' 'big' 'high']\n",
      " ...\n",
      " ['high' 'low' '2' '2' 'big' 'med']\n",
      " ['vhigh' 'med' '3' '2' 'small' 'med']\n",
      " ['med' 'vhigh' '2' '2' 'big' 'high']]\n"
     ]
    }
   ],
   "source": [
    "print(X_test)"
   ]
  },
  {
   "cell_type": "code",
   "execution_count": 43,
   "id": "ea40518c",
   "metadata": {},
   "outputs": [
    {
     "name": "stdout",
     "output_type": "stream",
     "text": [
      "['big' 'small' 'small' ... 'small' 'med' 'med']\n"
     ]
    }
   ],
   "source": [
    "print(y_train)\n"
   ]
  },
  {
   "cell_type": "code",
   "execution_count": 44,
   "id": "98705e3c",
   "metadata": {},
   "outputs": [
    {
     "name": "stdout",
     "output_type": "stream",
     "text": [
      "['med' 'med' 'big' 'med' 'small' 'big' 'med' 'med' 'big' 'med' 'small'\n",
      " 'med' 'small' 'big' 'big' 'small' 'small' 'big' 'small' 'big' 'big' 'med'\n",
      " 'med' 'small' 'med' 'big' 'big' 'med' 'med' 'small' 'small' 'small' 'med'\n",
      " 'small' 'small' 'med' 'med' 'med' 'med' 'small' 'med' 'big' 'med' 'med'\n",
      " 'med' 'big' 'med' 'small' 'med' 'med' 'med' 'big' 'big' 'small' 'big'\n",
      " 'med' 'med' 'small' 'small' 'big' 'med' 'med' 'big' 'small' 'med' 'med'\n",
      " 'med' 'big' 'med' 'med' 'big' 'big' 'small' 'big' 'big' 'med' 'big'\n",
      " 'small' 'small' 'med' 'small' 'small' 'med' 'small' 'med' 'small' 'small'\n",
      " 'med' 'small' 'big' 'big' 'big' 'small' 'small' 'small' 'small' 'small'\n",
      " 'big' 'med' 'big' 'med' 'small' 'big' 'med' 'small' 'med' 'big' 'med'\n",
      " 'med' 'big' 'small' 'small' 'small' 'med' 'small' 'med' 'big' 'small'\n",
      " 'med' 'med' 'big' 'med' 'med' 'big' 'med' 'small' 'big' 'med' 'big' 'big'\n",
      " 'big' 'small' 'big' 'med' 'med' 'small' 'med' 'small' 'med' 'med' 'med'\n",
      " 'big' 'small' 'big' 'med' 'big' 'big' 'big' 'big' 'small' 'big' 'big'\n",
      " 'big' 'small' 'big' 'big' 'small' 'med' 'big' 'big' 'small' 'small'\n",
      " 'small' 'med' 'med' 'med' 'small' 'med' 'med' 'big' 'big' 'med' 'small'\n",
      " 'small' 'big' 'small' 'small' 'big' 'big' 'med' 'big' 'small' 'med'\n",
      " 'small' 'small' 'med' 'med' 'small' 'med' 'med' 'small' 'med' 'med' 'big'\n",
      " 'med' 'med' 'small' 'small' 'med' 'big' 'med' 'big' 'small' 'big' 'small'\n",
      " 'small' 'small' 'small' 'med' 'big' 'med' 'big' 'med' 'big' 'big' 'small'\n",
      " 'med' 'med' 'med' 'small' 'big' 'med' 'big' 'big' 'big' 'med' 'med'\n",
      " 'small' 'big' 'small' 'med' 'big' 'med' 'big' 'big' 'small' 'big' 'big'\n",
      " 'med' 'small' 'small' 'small' 'med' 'med' 'med' 'small' 'small' 'big'\n",
      " 'small' 'med' 'big' 'big' 'med' 'small' 'small' 'small' 'small' 'small'\n",
      " 'med' 'med' 'big' 'small' 'med' 'small' 'med' 'small' 'med' 'med' 'big'\n",
      " 'big' 'big' 'small' 'small' 'big' 'med' 'small' 'med' 'small' 'big' 'big'\n",
      " 'big' 'small' 'med' 'med' 'big' 'small' 'small' 'med' 'med' 'med' 'big'\n",
      " 'small' 'big' 'big' 'med' 'small' 'small' 'big' 'small' 'small' 'small'\n",
      " 'med' 'big' 'big' 'med' 'small' 'med' 'small' 'big' 'big' 'med' 'small'\n",
      " 'big' 'small' 'med' 'big' 'big' 'med' 'big' 'big' 'small' 'med' 'small'\n",
      " 'med' 'big' 'big' 'med' 'small' 'med' 'small' 'med' 'big' 'big' 'med'\n",
      " 'med' 'big' 'med' 'big' 'small' 'med' 'small' 'med' 'med' 'big' 'small'\n",
      " 'big']\n"
     ]
    }
   ],
   "source": [
    "print(y_test)"
   ]
  },
  {
   "cell_type": "code",
   "execution_count": 66,
   "id": "5793485a",
   "metadata": {},
   "outputs": [],
   "source": [
    "\n"
   ]
  },
  {
   "cell_type": "code",
   "execution_count": 71,
   "id": "9191260f",
   "metadata": {},
   "outputs": [],
   "source": []
  },
  {
   "cell_type": "code",
   "execution_count": 74,
   "id": "7ea6d69e",
   "metadata": {},
   "outputs": [
    {
     "ename": "ModuleNotFoundError",
     "evalue": "No module named 'sklearn.model'",
     "output_type": "error",
     "traceback": [
      "\u001b[0;31m---------------------------------------------------------------------------\u001b[0m",
      "\u001b[0;31mModuleNotFoundError\u001b[0m                       Traceback (most recent call last)",
      "\u001b[0;32m/tmp/ipykernel_6142/1222981286.py\u001b[0m in \u001b[0;36m<module>\u001b[0;34m\u001b[0m\n\u001b[0;32m----> 1\u001b[0;31m \u001b[0;32mfrom\u001b[0m \u001b[0msklearn\u001b[0m\u001b[0;34m.\u001b[0m\u001b[0mmodel\u001b[0m \u001b[0;32mimport\u001b[0m \u001b[0mtest_train_split\u001b[0m\u001b[0;34m\u001b[0m\u001b[0;34m\u001b[0m\u001b[0m\n\u001b[0m\u001b[1;32m      2\u001b[0m \u001b[0mprint\u001b[0m\u001b[0;34m(\u001b[0m\u001b[0maccuracy_score\u001b[0m\u001b[0;34m,\u001b[0m\u001b[0my_test\u001b[0m\u001b[0;34m)\u001b[0m\u001b[0;34m\u001b[0m\u001b[0;34m\u001b[0m\u001b[0m\n",
      "\u001b[0;31mModuleNotFoundError\u001b[0m: No module named 'sklearn.model'"
     ]
    }
   ],
   "source": []
  },
  {
   "cell_type": "code",
   "execution_count": null,
   "id": "3bf48cde",
   "metadata": {},
   "outputs": [],
   "source": []
  }
 ],
 "metadata": {
  "kernelspec": {
   "display_name": "Python 3 (ipykernel)",
   "language": "python",
   "name": "python3"
  },
  "language_info": {
   "codemirror_mode": {
    "name": "ipython",
    "version": 3
   },
   "file_extension": ".py",
   "mimetype": "text/x-python",
   "name": "python",
   "nbconvert_exporter": "python",
   "pygments_lexer": "ipython3",
   "version": "3.9.7"
  }
 },
 "nbformat": 4,
 "nbformat_minor": 5
}
